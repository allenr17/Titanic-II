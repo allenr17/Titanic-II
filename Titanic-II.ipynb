{
 "cells": [
  {
   "cell_type": "code",
   "execution_count": 61,
   "metadata": {},
   "outputs": [],
   "source": [
    "import numpy as np\n",
    "import pandas as pd\n",
    "\n",
    "import sklearn as sk\n",
    "\n",
    "from sklearn.model_selection import train_test_split\n",
    "from sklearn.preprocessing import StandardScaler\n",
    "from sklearn.neural_network import MLPClassifier\n",
    "from sklearn.svm import SVC\n",
    "\n",
    "import matplotlib.pyplot as plot\n",
    "\n",
    "import math"
   ]
  },
  {
   "cell_type": "code",
   "execution_count": 62,
   "metadata": {},
   "outputs": [],
   "source": [
    "trainIN = pd.read_csv(\"train.csv\")\n",
    "testIN = pd.read_csv(\"test.csv\")\n",
    "\n",
    "X = trainIN.iloc[:, 2:]\n",
    "y = trainIN.iloc[:, 1]\n",
    "\n",
    "X_train, X_test, y_train, y_test = sk.model_selection.train_test_split(X, y, test_size=0.3, random_state=1, stratify=y)"
   ]
  },
  {
   "cell_type": "code",
   "execution_count": 63,
   "metadata": {},
   "outputs": [],
   "source": [
    "#print(X_train)"
   ]
  },
  {
   "cell_type": "code",
   "execution_count": 64,
   "metadata": {},
   "outputs": [
    {
     "data": {
      "text/html": [
       "<div>\n",
       "<style scoped>\n",
       "    .dataframe tbody tr th:only-of-type {\n",
       "        vertical-align: middle;\n",
       "    }\n",
       "\n",
       "    .dataframe tbody tr th {\n",
       "        vertical-align: top;\n",
       "    }\n",
       "\n",
       "    .dataframe thead th {\n",
       "        text-align: right;\n",
       "    }\n",
       "</style>\n",
       "<table border=\"1\" class=\"dataframe\">\n",
       "  <thead>\n",
       "    <tr style=\"text-align: right;\">\n",
       "      <th></th>\n",
       "      <th>Total</th>\n",
       "      <th>Percent</th>\n",
       "    </tr>\n",
       "  </thead>\n",
       "  <tbody>\n",
       "    <tr>\n",
       "      <th>Cabin</th>\n",
       "      <td>687</td>\n",
       "      <td>77.104377</td>\n",
       "    </tr>\n",
       "    <tr>\n",
       "      <th>Age</th>\n",
       "      <td>177</td>\n",
       "      <td>19.865320</td>\n",
       "    </tr>\n",
       "    <tr>\n",
       "      <th>Embarked</th>\n",
       "      <td>2</td>\n",
       "      <td>0.224467</td>\n",
       "    </tr>\n",
       "    <tr>\n",
       "      <th>Fare</th>\n",
       "      <td>0</td>\n",
       "      <td>0.000000</td>\n",
       "    </tr>\n",
       "    <tr>\n",
       "      <th>Ticket</th>\n",
       "      <td>0</td>\n",
       "      <td>0.000000</td>\n",
       "    </tr>\n",
       "    <tr>\n",
       "      <th>Parch</th>\n",
       "      <td>0</td>\n",
       "      <td>0.000000</td>\n",
       "    </tr>\n",
       "    <tr>\n",
       "      <th>SibSp</th>\n",
       "      <td>0</td>\n",
       "      <td>0.000000</td>\n",
       "    </tr>\n",
       "    <tr>\n",
       "      <th>Sex</th>\n",
       "      <td>0</td>\n",
       "      <td>0.000000</td>\n",
       "    </tr>\n",
       "    <tr>\n",
       "      <th>Name</th>\n",
       "      <td>0</td>\n",
       "      <td>0.000000</td>\n",
       "    </tr>\n",
       "    <tr>\n",
       "      <th>Pclass</th>\n",
       "      <td>0</td>\n",
       "      <td>0.000000</td>\n",
       "    </tr>\n",
       "    <tr>\n",
       "      <th>Survived</th>\n",
       "      <td>0</td>\n",
       "      <td>0.000000</td>\n",
       "    </tr>\n",
       "    <tr>\n",
       "      <th>PassengerId</th>\n",
       "      <td>0</td>\n",
       "      <td>0.000000</td>\n",
       "    </tr>\n",
       "  </tbody>\n",
       "</table>\n",
       "</div>"
      ],
      "text/plain": [
       "             Total    Percent\n",
       "Cabin          687  77.104377\n",
       "Age            177  19.865320\n",
       "Embarked         2   0.224467\n",
       "Fare             0   0.000000\n",
       "Ticket           0   0.000000\n",
       "Parch            0   0.000000\n",
       "SibSp            0   0.000000\n",
       "Sex              0   0.000000\n",
       "Name             0   0.000000\n",
       "Pclass           0   0.000000\n",
       "Survived         0   0.000000\n",
       "PassengerId      0   0.000000"
      ]
     },
     "execution_count": 64,
     "metadata": {},
     "output_type": "execute_result"
    }
   ],
   "source": [
    "def missing_data(data):\n",
    "    total = data.isnull().sum().sort_values(ascending = False)\n",
    "    percent = (data.isnull().sum()/data.isnull().count()*100).sort_values(ascending = False)\n",
    "    return pd.concat([total, percent], axis=1, keys=['Total', 'Percent'])\n",
    "missing_data(trainIN)"
   ]
  },
  {
   "cell_type": "markdown",
   "metadata": {},
   "source": [
    "# Using the Titanic data set.  Replacing missing Age data with the mean of all ages.  This approach could result in systemic bias by age, which might lead to conflict with the ACM code of ethics, as there would be discrimination in the model.  "
   ]
  },
  {
   "cell_type": "code",
   "execution_count": 65,
   "metadata": {},
   "outputs": [
    {
     "name": "stdout",
     "output_type": "stream",
     "text": [
      "29.233373253493014\n",
      "30.794600938967136\n"
     ]
    }
   ],
   "source": [
    "column_means = X_train[\"Age\"].mean()\n",
    "print(column_means)\n",
    "X_train = X_train.fillna(column_means)\n",
    "column_means = X_test[\"Age\"].mean()\n",
    "X_test = X_test.fillna(column_means)\n",
    "print(column_means)"
   ]
  },
  {
   "cell_type": "code",
   "execution_count": 66,
   "metadata": {},
   "outputs": [
    {
     "name": "stdout",
     "output_type": "stream",
     "text": [
      "623\n"
     ]
    }
   ],
   "source": [
    "print(len(X_train))"
   ]
  },
  {
   "cell_type": "markdown",
   "metadata": {},
   "source": [
    "# Drop unneeded columns and turn sex into binary classification"
   ]
  },
  {
   "cell_type": "code",
   "execution_count": 67,
   "metadata": {},
   "outputs": [],
   "source": [
    "X_train = X_train.drop([\"Name\", \"Ticket\", \"Cabin\", \"Embarked\", \"Fare\"], axis=1)\n",
    "X_test = X_test.drop([\"Name\", \"Ticket\", \"Cabin\", \"Embarked\", \"Fare\"], axis=1)\n",
    "\n",
    "X_train[\"Sex\"].replace(['female','male'], [0, 1], inplace=True)\n",
    "X_test[\"Sex\"].replace(['female','male'], [0, 1], inplace=True)"
   ]
  },
  {
   "cell_type": "code",
   "execution_count": 68,
   "metadata": {},
   "outputs": [
    {
     "name": "stdout",
     "output_type": "stream",
     "text": [
      "     Pclass  Sex        Age  SibSp  Parch\n",
      "472       2    0  33.000000      1      2\n",
      "597       3    1  49.000000      0      0\n",
      "843       3    1  34.500000      0      0\n",
      "112       3    1  22.000000      0      0\n",
      "869       3    1   4.000000      1      1\n",
      "838       3    1  32.000000      0      0\n",
      "575       3    1  19.000000      0      0\n",
      "377       1    1  27.000000      0      2\n",
      "664       3    1  20.000000      1      0\n",
      "84        2    0  17.000000      0      0\n",
      "426       2    0  28.000000      1      0\n",
      "692       3    1  29.233373      0      0\n",
      "90        3    1  29.000000      0      0\n",
      "672       2    1  70.000000      0      0\n",
      "445       1    1   4.000000      0      2\n",
      "620       3    1  27.000000      1      0\n",
      "144       2    1  18.000000      0      0\n",
      "12        3    1  20.000000      0      0\n",
      "752       3    1  33.000000      0      0\n",
      "564       3    0  29.233373      0      0\n",
      "203       3    1  45.500000      0      0\n",
      "386       3    1   1.000000      5      2\n",
      "55        1    1  29.233373      0      0\n",
      "133       2    0  29.000000      1      0\n",
      "553       3    1  22.000000      0      0\n",
      "269       1    0  35.000000      0      0\n",
      "806       1    1  39.000000      0      0\n",
      "280       3    1  65.000000      0      0\n",
      "247       2    0  24.000000      0      2\n",
      "454       3    1  29.233373      0      0\n",
      "..      ...  ...        ...    ...    ...\n",
      "209       1    1  40.000000      0      0\n",
      "409       3    0  29.233373      3      1\n",
      "772       2    0  57.000000      0      0\n",
      "780       3    0  13.000000      0      0\n",
      "336       1    1  29.000000      1      0\n",
      "344       2    1  36.000000      0      0\n",
      "839       1    1  29.233373      0      0\n",
      "757       2    1  18.000000      0      0\n",
      "868       3    1  29.233373      0      0\n",
      "717       2    0  27.000000      0      0\n",
      "295       1    1  29.233373      0      0\n",
      "814       3    1  30.500000      0      0\n",
      "678       3    0  43.000000      1      6\n",
      "520       1    0  30.000000      0      0\n",
      "681       1    1  27.000000      0      0\n",
      "699       3    1  42.000000      0      0\n",
      "696       3    1  44.000000      0      0\n",
      "841       2    1  16.000000      0      0\n",
      "328       3    0  31.000000      1      1\n",
      "76        3    1  29.233373      0      0\n",
      "690       1    1  31.000000      1      0\n",
      "887       1    0  19.000000      0      0\n",
      "742       1    0  21.000000      2      2\n",
      "758       3    1  34.000000      0      0\n",
      "689       1    0  15.000000      0      1\n",
      "650       3    1  29.233373      0      0\n",
      "241       3    0  29.233373      1      0\n",
      "265       2    1  36.000000      0      0\n",
      "15        2    0  55.000000      0      0\n",
      "464       3    1  29.233373      0      0\n",
      "\n",
      "[623 rows x 5 columns]\n",
      "472    1\n",
      "597    0\n",
      "843    0\n",
      "112    0\n",
      "869    1\n",
      "838    1\n",
      "575    0\n",
      "377    0\n",
      "664    1\n",
      "84     1\n",
      "426    1\n",
      "692    1\n",
      "90     0\n",
      "672    0\n",
      "445    1\n",
      "620    0\n",
      "144    0\n",
      "12     0\n",
      "752    0\n",
      "564    0\n",
      "203    0\n",
      "386    0\n",
      "55     1\n",
      "133    1\n",
      "553    1\n",
      "269    1\n",
      "806    0\n",
      "280    0\n",
      "247    1\n",
      "454    0\n",
      "      ..\n",
      "209    1\n",
      "409    0\n",
      "772    0\n",
      "780    1\n",
      "336    0\n",
      "344    0\n",
      "839    1\n",
      "757    0\n",
      "868    0\n",
      "717    1\n",
      "295    0\n",
      "814    0\n",
      "678    0\n",
      "520    1\n",
      "681    1\n",
      "699    0\n",
      "696    0\n",
      "841    0\n",
      "328    1\n",
      "76     0\n",
      "690    1\n",
      "887    1\n",
      "742    1\n",
      "758    0\n",
      "689    1\n",
      "650    0\n",
      "241    1\n",
      "265    0\n",
      "15     1\n",
      "464    0\n",
      "Name: Survived, Length: 623, dtype: int64\n"
     ]
    }
   ],
   "source": [
    "print(X_train)\n",
    "print(y_train)"
   ]
  },
  {
   "cell_type": "markdown",
   "metadata": {},
   "source": [
    "# SVM"
   ]
  },
  {
   "cell_type": "code",
   "execution_count": 69,
   "metadata": {},
   "outputs": [],
   "source": [
    "sc = StandardScaler()\n",
    "sc.fit(X_train)\n",
    "X_train_std = sc.transform(X_train)\n",
    "X_test_std = sc.transform(X_test)"
   ]
  },
  {
   "cell_type": "code",
   "execution_count": 70,
   "metadata": {},
   "outputs": [
    {
     "name": "stdout",
     "output_type": "stream",
     "text": [
      "Train accuracy:  0.7800963081861958\n",
      "Test accuracy:  0.8022388059701493\n"
     ]
    }
   ],
   "source": [
    "svm = SVC(kernel='linear', random_state=1, gamma='auto', C=1)\n",
    "svm.fit(X_train, y_train)\n",
    "print(\"Train accuracy: \", svm.score(X_train, y_train))\n",
    "print(\"Test accuracy: \", svm.score(X_test, y_test))"
   ]
  },
  {
   "cell_type": "code",
   "execution_count": 71,
   "metadata": {},
   "outputs": [
    {
     "name": "stdout",
     "output_type": "stream",
     "text": [
      "Accuracy:  0.8022388059701493\n",
      "Confusion matrix: \n",
      "S = Survived, D = Died\n",
      "Predicted:\n",
      " D     S    Actual:\n",
      "143   31     D\n",
      " 22   72     S\n"
     ]
    }
   ],
   "source": [
    "svm_predictions = svm.predict(X_test)\n",
    "TP = 0\n",
    "TN = 0\n",
    "FP = 0\n",
    "FN = 0\n",
    "correct = 0\n",
    "incorrect = 0\n",
    "total = 0\n",
    "\n",
    "for y in y_test:\n",
    "    if (y == svm_predictions[total]):\n",
    "        correct += 1\n",
    "        if (y == 1):\n",
    "            TP += 1\n",
    "        else:\n",
    "            TN += 1\n",
    "    else:\n",
    "        incorrect += 1\n",
    "        if (y == 1):\n",
    "            FP += 1\n",
    "        else:\n",
    "            FN += 1\n",
    "    total += 1\n",
    "accuracy = correct/total\n",
    "\n",
    "print(\"Accuracy: \", accuracy)\n",
    "print(\"Confusion matrix: \")\n",
    "print(\"S = Survived, D = Died\")\n",
    "print(\"Predicted:\\n D     S    Actual:\")\n",
    "print(TN, \" \", FP, \"    D\\n\", FN, \" \", TP, \"    S\")"
   ]
  },
  {
   "cell_type": "markdown",
   "metadata": {},
   "source": [
    "# DNN"
   ]
  },
  {
   "cell_type": "code",
   "execution_count": 72,
   "metadata": {},
   "outputs": [],
   "source": [
    "dnn = MLPClassifier(hidden_layer_sizes = 100, solver = 'adam', tol = 0.0001, learning_rate_init = 0.001, alpha = 0.0001, shuffle=False, max_iter = 2000, random_state = 1).fit(X_train, y_train)"
   ]
  },
  {
   "cell_type": "code",
   "execution_count": 73,
   "metadata": {},
   "outputs": [
    {
     "name": "stdout",
     "output_type": "stream",
     "text": [
      "Train accuracy:  0.8346709470304976\n",
      "Test accuracy:  0.832089552238806\n"
     ]
    }
   ],
   "source": [
    "print(\"Train accuracy: \", dnn.score(X_train, y_train))\n",
    "print(\"Test accuracy: \", dnn.score(X_test, y_test))"
   ]
  },
  {
   "cell_type": "code",
   "execution_count": 74,
   "metadata": {},
   "outputs": [
    {
     "data": {
      "text/plain": [
       "3"
      ]
     },
     "execution_count": 74,
     "metadata": {},
     "output_type": "execute_result"
    }
   ],
   "source": [
    "#number of layers in the model\n",
    "dnn.n_layers_"
   ]
  },
  {
   "cell_type": "code",
   "execution_count": 75,
   "metadata": {},
   "outputs": [
    {
     "name": "stdout",
     "output_type": "stream",
     "text": [
      "Accuracy:  0.832089552238806\n",
      "Confusion matrix: \n",
      "S = Survived, D = Died\n",
      "Predicted:\n",
      " D     S    Actual:\n",
      "153   33     D\n",
      " 12   70     S\n"
     ]
    }
   ],
   "source": [
    "dnn_predictions = dnn.predict(X_test)\n",
    "TP = 0\n",
    "TN = 0\n",
    "FP = 0\n",
    "FN = 0\n",
    "correct = 0\n",
    "incorrect = 0\n",
    "total = 0\n",
    "\n",
    "for y in y_test:\n",
    "    if (y == dnn_predictions[total]):\n",
    "        correct += 1\n",
    "        if (y == 1):\n",
    "            TP += 1\n",
    "        else:\n",
    "            TN += 1\n",
    "    else:\n",
    "        incorrect += 1\n",
    "        if (y == 1):\n",
    "            FP += 1\n",
    "        else:\n",
    "            FN += 1\n",
    "    total += 1\n",
    "accuracy = correct/total\n",
    "\n",
    "print(\"Accuracy: \", accuracy)\n",
    "print(\"Confusion matrix: \")\n",
    "print(\"S = Survived, D = Died\")\n",
    "print(\"Predicted:\\n D     S    Actual:\")\n",
    "print(TN, \" \", FP, \"    D\\n\", FN, \" \", TP, \"    S\")"
   ]
  },
  {
   "cell_type": "markdown",
   "metadata": {},
   "source": [
    "# Predicting the competition test set (not part of the project, I'm just checking to see what results I get)"
   ]
  },
  {
   "cell_type": "code",
   "execution_count": 76,
   "metadata": {},
   "outputs": [],
   "source": [
    "nums = testIN[\"PassengerId\"]\n",
    "testIN = testIN.drop([\"PassengerId\", \"Name\", \"Ticket\", \"Cabin\", \"Embarked\", \"Fare\"], axis=1)\n",
    "testIN[\"Sex\"].replace(['female','male'], [0, 1], inplace=True)\n",
    "column_means = testIN[\"Age\"].mean()\n",
    "testIN = testIN.fillna(column_means)\n",
    "predictions = svm.predict(testIN)\n",
    "predictions2 = dnn.predict(testIN)"
   ]
  },
  {
   "cell_type": "code",
   "execution_count": 77,
   "metadata": {},
   "outputs": [
    {
     "name": "stdout",
     "output_type": "stream",
     "text": [
      "418\n",
      "418\n"
     ]
    }
   ],
   "source": [
    "print(len(nums))\n",
    "print(len(predictions))"
   ]
  },
  {
   "cell_type": "code",
   "execution_count": 78,
   "metadata": {},
   "outputs": [],
   "source": [
    "out = []\n",
    "for x in range(418):\n",
    "    out.append([nums[x], predictions[x]])\n",
    "csvOUT = pd.DataFrame(out)\n",
    "csvOUT.columns = [\"PassengerId\", \"Survived\"]\n",
    "csvOUT.to_csv(\"SVMpredictions.csv\", index=False)"
   ]
  },
  {
   "cell_type": "code",
   "execution_count": 79,
   "metadata": {},
   "outputs": [],
   "source": [
    "out2 = []\n",
    "for x in range(418):\n",
    "    out2.append([nums[x], predictions[x]])\n",
    "csvOUT2 = pd.DataFrame(out)\n",
    "csvOUT2.columns = [\"PassengerId\", \"Survived\"]\n",
    "csvOUT2.to_csv(\"DNNpredictions.csv\", index=False)"
   ]
  },
  {
   "cell_type": "code",
   "execution_count": null,
   "metadata": {},
   "outputs": [],
   "source": []
  },
  {
   "cell_type": "code",
   "execution_count": null,
   "metadata": {},
   "outputs": [],
   "source": []
  }
 ],
 "metadata": {
  "kernelspec": {
   "display_name": "Python 3",
   "language": "python",
   "name": "python3"
  },
  "language_info": {
   "codemirror_mode": {
    "name": "ipython",
    "version": 3
   },
   "file_extension": ".py",
   "mimetype": "text/x-python",
   "name": "python",
   "nbconvert_exporter": "python",
   "pygments_lexer": "ipython3",
   "version": "3.6.9"
  }
 },
 "nbformat": 4,
 "nbformat_minor": 4
}
